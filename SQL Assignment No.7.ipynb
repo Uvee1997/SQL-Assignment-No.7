{
 "cells": [
  {
   "cell_type": "markdown",
   "id": "09f21cfd",
   "metadata": {},
   "source": [
    "1) Write an SQL query to show only odd rows from a table.\n",
    "\n",
    ":- select * from worker where MOD(worker_id, 2) <> 0;"
   ]
  },
  {
   "cell_type": "markdown",
   "id": "7ee4a222",
   "metadata": {},
   "source": [
    "2) Write an SQL query to clone a new table from another table.\n",
    "\n",
    ":-  i) General query to clone a table with data is,\n",
    "    - select * into workerclone from worker;\n",
    "    \n",
    "    ii) General way to clone without information is,\n",
    "    - select * into workerclone from worker where 1 = 0;\n",
    "    \n",
    "    iii) An alternate way to clone a table(for MySQL)is,\n",
    "    - create table workerclone like worker"
   ]
  }
 ],
 "metadata": {
  "kernelspec": {
   "display_name": "Python 3 (ipykernel)",
   "language": "python",
   "name": "python3"
  },
  "language_info": {
   "codemirror_mode": {
    "name": "ipython",
    "version": 3
   },
   "file_extension": ".py",
   "mimetype": "text/x-python",
   "name": "python",
   "nbconvert_exporter": "python",
   "pygments_lexer": "ipython3",
   "version": "3.9.7"
  }
 },
 "nbformat": 4,
 "nbformat_minor": 5
}
